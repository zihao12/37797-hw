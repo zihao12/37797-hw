{
 "cells": [
  {
   "cell_type": "code",
   "execution_count": 1,
   "metadata": {},
   "outputs": [],
   "source": [
    "import numpy as np\n",
    "import pdb\n",
    "\n",
    "def simulate_graph(eps, n = 100):\n",
    "    truth = np.ones(n, dtype=bool)\n",
    "    truth[:int(n/2)] = False\n",
    "    \n",
    "    A = np.zeros((n, n))\n",
    "    p = (1 + eps)/2\n",
    "    q = (1 - eps)/2\n",
    "    ## generate within groups\n",
    "    idx = np.triu_indices(n, k=1, m=None)\n",
    "    A[idx] = np.random.binomial(1, p, int((n*(n-1)/2)))\n",
    "    ## generate between groups\n",
    "    idx1 = [i for i in range(int(n/2))]\n",
    "    idx2 = [i for i in range(int(n/2), n)]\n",
    "    A[np.ix_(idx1, idx2)] = np.random.binomial(1, q, int(n*n/4)).reshape((int(n/2), int(n/2)))\n",
    "    A += A.T\n",
    "    A[np.diag_indices(4)] = p \n",
    "    \n",
    "    return A, truth\n",
    "    \n",
    "def run_eval(A, truth):\n",
    "    n = A.shape[0]\n",
    "    M = A - np.ones((n, n))\n",
    "    _, v = np.linalg.eigh(A)\n",
    "    vstar = v[:, -1]\n",
    "    pred = (vstar < 0)    \n",
    "    n_err = min((pred == truth).sum(), (np.invert(pred) == truth).sum())\n",
    "    \n",
    "    return n_err/n\n",
    "\n",
    "def experiment1(eps):\n",
    "    A, truth = simulate_graph(eps)\n",
    "    \n",
    "    return run_eval(A, truth)\n",
    "\n",
    "def experiment_multi(eps, ntrial = 200):\n",
    "    out = [experiment1(eps) for i in range(ntrial)]\n",
    "    \n",
    "    return out"
   ]
  },
  {
   "cell_type": "code",
   "execution_count": null,
   "metadata": {},
   "outputs": [],
   "source": [
    "# n = 10\n",
    "# eps = 1/2\n",
    "# A = np.zeros((n, n))\n",
    "# p = (1 + eps)/2\n",
    "# q = (1 - eps)/2\n",
    "# ## generate within groups\n",
    "# idx = np.triu_indices(n, k=1, m=None)\n",
    "# A[idx] = np.random.binomial(1, p, int((n*(n-1)/2)))\n",
    "# idx1 = [i for i in range(int(n/2))]\n",
    "# idx2 = [i for i in range(int(n/2), n)]\n",
    "# A[np.ix_(idx1, idx2)] = np.random.binomial(1, q, int(n*n/4)).reshape((int(n/2), int(n/2)))\n",
    "# print(A)\n",
    "# A += A.T\n",
    "# print(A)\n",
    "# A[np.diag_indices(4)] = p \n",
    "# print(A)"
   ]
  }
 ],
 "metadata": {
  "kernelspec": {
   "display_name": "Python 3",
   "language": "python",
   "name": "python3"
  },
  "language_info": {
   "codemirror_mode": {
    "name": "ipython",
    "version": 3
   },
   "file_extension": ".py",
   "mimetype": "text/x-python",
   "name": "python",
   "nbconvert_exporter": "python",
   "pygments_lexer": "ipython3",
   "version": "3.7.6"
  }
 },
 "nbformat": 4,
 "nbformat_minor": 4
}
